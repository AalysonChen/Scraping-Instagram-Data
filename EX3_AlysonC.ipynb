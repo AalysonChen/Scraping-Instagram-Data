{
  "nbformat": 4,
  "nbformat_minor": 0,
  "metadata": {
    "colab": {
      "name": "Hw4.AlysonC.ipynb",
      "provenance": []
    },
    "kernelspec": {
      "name": "python3",
      "display_name": "Python 3"
    }
  },
  "cells": [
    {
      "cell_type": "markdown",
      "metadata": {
        "id": "Mp9LyC9e70rS",
        "colab_type": "text"
      },
      "source": [
        "### Scraping Instagram Data\n",
        "\n"
      ]
    },
    {
      "cell_type": "markdown",
      "metadata": {
        "id": "2PKsFG8Z8YYP",
        "colab_type": "text"
      },
      "source": [
        "### Use instagram-scraper to fetch the Instgram metadata associated with posts from these accounts. "
      ]
    },
    {
      "cell_type": "code",
      "metadata": {
        "id": "I_szGTOO8cvA",
        "colab_type": "code",
        "outputId": "6e57abb1-2e58-46c5-b215-d5c36f540123",
        "colab": {
          "base_uri": "https://localhost:8080/",
          "height": 292
        }
      },
      "source": [
        "!pip install instagram-scraper "
      ],
      "execution_count": 0,
      "outputs": [
        {
          "output_type": "stream",
          "text": [
            "Collecting instagram-scraper\n",
            "  Downloading https://files.pythonhosted.org/packages/41/e5/caa22efd3905de149a03300509e5f102a327b7cad1cc41d2dff88df44087/instagram-scraper-1.8.1.tar.gz\n",
            "Requirement already satisfied: requests>=2.18.4 in /usr/local/lib/python3.6/dist-packages (from instagram-scraper) (2.21.0)\n",
            "Requirement already satisfied: tqdm>=3.8.0 in /usr/local/lib/python3.6/dist-packages (from instagram-scraper) (4.28.1)\n",
            "Requirement already satisfied: idna<2.9,>=2.5 in /usr/local/lib/python3.6/dist-packages (from requests>=2.18.4->instagram-scraper) (2.8)\n",
            "Requirement already satisfied: chardet<3.1.0,>=3.0.2 in /usr/local/lib/python3.6/dist-packages (from requests>=2.18.4->instagram-scraper) (3.0.4)\n",
            "Requirement already satisfied: certifi>=2017.4.17 in /usr/local/lib/python3.6/dist-packages (from requests>=2.18.4->instagram-scraper) (2019.11.28)\n",
            "Requirement already satisfied: urllib3<1.25,>=1.21.1 in /usr/local/lib/python3.6/dist-packages (from requests>=2.18.4->instagram-scraper) (1.24.3)\n",
            "Building wheels for collected packages: instagram-scraper\n",
            "  Building wheel for instagram-scraper (setup.py) ... \u001b[?25l\u001b[?25hdone\n",
            "  Created wheel for instagram-scraper: filename=instagram_scraper-1.8.1-cp36-none-any.whl size=34275 sha256=31c61352569e5a8530105047e3a52566114275af5a1b2971e38a420e841756b6\n",
            "  Stored in directory: /root/.cache/pip/wheels/b6/53/4e/67f0a88142d60eac158eb38df3c7a159cc37358d638913a183\n",
            "Successfully built instagram-scraper\n",
            "Installing collected packages: instagram-scraper\n",
            "Successfully installed instagram-scraper-1.8.1\n"
          ],
          "name": "stdout"
        }
      ]
    },
    {
      "cell_type": "code",
      "metadata": {
        "id": "xQccecXp_r7m",
        "colab_type": "code",
        "outputId": "6ad07d25-bc5a-4c46-bd99-052eee84f947",
        "colab": {
          "base_uri": "https://localhost:8080/",
          "height": 122
        }
      },
      "source": [
        "from google.colab import drive\n",
        "drive.mount('/content/drive')"
      ],
      "execution_count": 0,
      "outputs": [
        {
          "output_type": "stream",
          "text": [
            "Go to this URL in a browser: https://accounts.google.com/o/oauth2/auth?client_id=947318989803-6bn6qk8qdgf4n4g3pfee6491hc0brc4i.apps.googleusercontent.com&redirect_uri=urn%3aietf%3awg%3aoauth%3a2.0%3aoob&response_type=code&scope=email%20https%3a%2f%2fwww.googleapis.com%2fauth%2fdocs.test%20https%3a%2f%2fwww.googleapis.com%2fauth%2fdrive%20https%3a%2f%2fwww.googleapis.com%2fauth%2fdrive.photos.readonly%20https%3a%2f%2fwww.googleapis.com%2fauth%2fpeopleapi.readonly\n",
            "\n",
            "Enter your authorization code:\n",
            "··········\n",
            "Mounted at /content/drive\n"
          ],
          "name": "stdout"
        }
      ]
    },
    {
      "cell_type": "code",
      "metadata": {
        "id": "mi93XQ-78tZT",
        "colab_type": "code",
        "outputId": "18988099-9ae0-465e-96f8-907452382053",
        "colab": {
          "base_uri": "https://localhost:8080/",
          "height": 1000
        }
      },
      "source": [
        "!instagram-scraper ford,honda,volvocars,dodgeofficial,chevrolet --media-metadata -m 200 -d 'drive/My Drive/Colab Notebooks'"
      ],
      "execution_count": 0,
      "outputs": [
        {
          "output_type": "stream",
          "text": [
            "Searching ford for profile pic: 100% 1/1 [00:00<00:00, 1488.40 images/s]\n",
            "Searching ford for posts: 151 media [00:28,  3.37s/ media]\n",
            "Downloading:   0%|          | 0/201 [00:00<?, ?it/s]\u001b[A\n",
            "Downloading:  76%|#######5  | 152/201 [00:00<00:00, 842.65it/s]\u001b[A\n",
            "Downloading:  89%|########8 | 178/201 [00:01<00:00, 53.86it/s] \u001b[A\n",
            "Downloading:  98%|#########8| 197/201 [00:02<00:00, 43.82it/s]\u001b[A\n",
            "Downloading: 100%|##########| 201/201 [00:02<00:00, 82.90it/s]\u001b[A\n",
            "Searching honda for profile pic:   0% 0/1 [00:00<?, ? images/s]\u001b[A\n",
            "Searching honda for profile pic: 100% 1/1 [00:00<00:00, 3412.78 images/s]\u001b[A\n",
            "Searching honda for posts: 0 media [00:00, ? media/s]\u001b[A\n",
            "Searching honda for posts: 1 media [00:15, 15.82s/ media]\u001b[A\n",
            "Searching honda for posts: 51 media [00:30, 11.17s/ media]\u001b[A\n",
            "Searching honda for posts: 101 media [00:45,  7.91s/ media]\u001b[A\n",
            "Searching honda for posts: 151 media [01:02,  5.64s/ media]\u001b[A\n",
            "\n",
            "Downloading:   0%|          | 0/201 [00:00<?, ?it/s]\u001b[A\u001b[A\n",
            "\n",
            "Downloading:  76%|#######5  | 152/201 [00:00<00:00, 953.18it/s]\u001b[A\u001b[A\n",
            "\n",
            "Downloading:  90%|######### | 181/201 [00:01<00:00, 68.02it/s] \u001b[A\u001b[A\n",
            "\n",
            "Downloading: 100%|##########| 201/201 [00:02<00:00, 68.99it/s]\u001b[A\u001b[A\n",
            "\n",
            "Searching volvocars for profile pic:   0% 0/1 [00:00<?, ? images/s]\u001b[A\u001b[A\n",
            "\n",
            "Searching volvocars for profile pic: 100% 1/1 [00:00<00:00, 4100.00 images/s]\u001b[A\u001b[A\n",
            "\n",
            "Searching volvocars for posts: 0 media [00:00, ? media/s]\u001b[A\u001b[A\n",
            "\n",
            "Searching volvocars for posts: 1 media [00:20, 20.71s/ media]\u001b[A\u001b[A\n",
            "\n",
            "Searching volvocars for posts: 51 media [00:39, 14.61s/ media]\u001b[A\u001b[A\n",
            "\n",
            "Searching volvocars for posts: 101 media [00:54, 10.32s/ media]\u001b[A\u001b[A\n",
            "\n",
            "Searching volvocars for posts: 151 media [01:10,  7.32s/ media]\u001b[A\u001b[A\n",
            "\n",
            "\n",
            "Downloading:   0%|          | 0/201 [00:00<?, ?it/s]\u001b[A\u001b[A\u001b[A\n",
            "\n",
            "\n",
            "Downloading:  76%|#######5  | 152/201 [00:00<00:00, 1249.61it/s]\u001b[A\u001b[A\u001b[A\n",
            "\n",
            "\n",
            "Downloading:  95%|#########4| 190/201 [00:02<00:00, 53.46it/s]  \u001b[A\u001b[A\u001b[A\n",
            "\n",
            "\n",
            "Downloading: 100%|##########| 201/201 [00:03<00:00, 64.46it/s]\u001b[A\u001b[A\u001b[A\n",
            "\n",
            "\n",
            "Searching dodgeofficial for profile pic:   0% 0/1 [00:00<?, ? images/s]\u001b[A\u001b[A\u001b[A\n",
            "\n",
            "\n",
            "Searching dodgeofficial for profile pic: 100% 1/1 [00:00<00:00, 7358.43 images/s]\u001b[A\u001b[A\u001b[A\n",
            "\n",
            "\n",
            "Searching dodgeofficial for posts: 0 media [00:00, ? media/s]\u001b[A\u001b[A\u001b[A\n",
            "\n",
            "\n",
            "Searching dodgeofficial for posts: 1 media [00:10, 10.69s/ media]\u001b[A\u001b[A\u001b[A\n",
            "\n",
            "\n",
            "Searching dodgeofficial for posts: 51 media [00:18,  7.53s/ media]\u001b[A\u001b[A\u001b[A\n",
            "\n",
            "\n",
            "Searching dodgeofficial for posts: 101 media [00:26,  5.32s/ media]\u001b[A\u001b[A\u001b[A\n",
            "\n",
            "\n",
            "Searching dodgeofficial for posts: 151 media [00:33,  3.77s/ media]\u001b[A\u001b[A\u001b[A\n",
            "\n",
            "\n",
            "\n",
            "Downloading:   0%|          | 0/201 [00:00<?, ?it/s]\u001b[A\u001b[A\u001b[A\u001b[A\n",
            "\n",
            "\n",
            "\n",
            "Downloading:  76%|#######5  | 152/201 [00:00<00:00, 1163.94it/s]\u001b[A\u001b[A\u001b[A\u001b[A\n",
            "\n",
            "\n",
            "\n",
            "Downloading:  93%|#########3| 187/201 [00:01<00:00, 83.39it/s]  \u001b[A\u001b[A\u001b[A\u001b[A\n",
            "\n",
            "\n",
            "\n",
            "Downloading: 100%|##########| 201/201 [00:01<00:00, 102.97it/s]\u001b[A\u001b[A\u001b[A\u001b[A\n",
            "\n",
            "\n",
            "\n",
            "Searching chevrolet for profile pic:   0% 0/1 [00:00<?, ? images/s]\u001b[A\u001b[A\u001b[A\u001b[A\n",
            "\n",
            "\n",
            "\n",
            "Searching chevrolet for profile pic: 100% 1/1 [00:00<00:00, 4128.25 images/s]\u001b[A\u001b[A\u001b[A\u001b[A\n",
            "\n",
            "\n",
            "\n",
            "Searching chevrolet for posts: 0 media [00:00, ? media/s]\u001b[A\u001b[A\u001b[A\u001b[A\n",
            "\n",
            "\n",
            "\n",
            "Searching chevrolet for posts: 1 media [00:05,  5.86s/ media]\u001b[A\u001b[A\u001b[A\u001b[A\n",
            "\n",
            "\n",
            "\n",
            "Searching chevrolet for posts: 51 media [00:14,  4.15s/ media]\u001b[A\u001b[A\u001b[A\u001b[A\n",
            "\n",
            "\n",
            "\n",
            "Searching chevrolet for posts: 101 media [00:24,  2.97s/ media]\u001b[A\u001b[A\u001b[A\u001b[A\n",
            "\n",
            "\n",
            "\n",
            "Searching chevrolet for posts: 151 media [00:29,  2.11s/ media]\u001b[A\u001b[A\u001b[A\u001b[A\n",
            "\n",
            "\n",
            "\n",
            "\n",
            "Downloading:   0%|          | 0/201 [00:00<?, ?it/s]\u001b[A\u001b[A\u001b[A\u001b[A\u001b[A\n",
            "\n",
            "\n",
            "\n",
            "\n",
            "Downloading:  76%|#######5  | 152/201 [00:00<00:00, 1213.53it/s]\u001b[A\u001b[A\u001b[A\u001b[A\u001b[A\n",
            "\n",
            "\n",
            "\n",
            "\n",
            "Downloading:  94%|#########4| 189/201 [00:01<00:00, 80.14it/s]  \u001b[A\u001b[A\u001b[A\u001b[A\u001b[A\n",
            "\n",
            "\n",
            "\n",
            "\n",
            "Downloading: 100%|##########| 201/201 [00:01<00:00, 103.09it/s]\u001b[A\u001b[A\u001b[A\u001b[A\u001b[A\n",
            "\u001b[A\n",
            "Exception ignored in: <bound method tqdm.__del__ of Searching chevrolet for posts: 151 media [00:31,  2.11s/ media]>\n",
            "Traceback (most recent call last):\n",
            "  File \"/usr/local/lib/python3.6/dist-packages/tqdm/_tqdm.py\", line 931, in __del__\n",
            "    self.close()\n",
            "  File \"/usr/local/lib/python3.6/dist-packages/tqdm/_tqdm.py\", line 1133, in close\n",
            "    self._decr_instances(self)\n",
            "  File \"/usr/local/lib/python3.6/dist-packages/tqdm/_tqdm.py\", line 496, in _decr_instances\n",
            "    cls.monitor.exit()\n",
            "  File \"/usr/local/lib/python3.6/dist-packages/tqdm/_monitor.py\", line 52, in exit\n",
            "    self.join()\n",
            "  File \"/usr/lib/python3.6/threading.py\", line 1053, in join\n",
            "    raise RuntimeError(\"cannot join current thread\")\n",
            "RuntimeError: cannot join current thread\n"
          ],
          "name": "stdout"
        }
      ]
    },
    {
      "cell_type": "code",
      "metadata": {
        "id": "qE-yDgJHwGbh",
        "colab_type": "code",
        "outputId": "0d1704f4-79c3-4480-cc12-6e9276ebd359",
        "colab": {
          "base_uri": "https://localhost:8080/",
          "height": 102
        }
      },
      "source": [
        "import glob\n",
        "import json\n",
        "import datetime\n",
        "import csv\n",
        " \n",
        "jsonfiles = glob.glob('drive/My Drive/Colab Notebooks/*.json')\n",
        " \n",
        "for afile in jsonfiles:\n",
        "    print(afile)\n",
        "    outputfile = open('%s.csv' % (afile[:-5]), 'w')\n",
        "     \n",
        "    csvwriter = csv.writer(outputfile)\n",
        "     \n",
        "    jsonfile = open(afile, 'r')\n",
        "    parsedjson = json.load(jsonfile)\n",
        "    instagramposts = {}\n",
        "     \n",
        "    metadata = {}\n",
        "    metadata['is_video'] = \"Photo\"\n",
        "    metadata['display_url'] = \"\"\n",
        "    metadata['caption'] = \"\"\n",
        "    metadata['like count'] = \"\"\n",
        "    metadata['comment count'] = \"\"\n",
        "    metadata['tags'] = \"\"\n",
        "    metadata['time'] = \"\"\n",
        "    header = list(metadata.keys())\n",
        "    csvwriter.writerows([header])\n",
        "     \n",
        "    for apost in parsedjson['GraphImages']:    \n",
        " \n",
        "        metadata = {}\n",
        "        metadata['is_video'] = \"Photo\"\n",
        "        metadata['display_url'] = \"\"\n",
        "        metadata['caption'] = \"\"\n",
        "        metadata['like count'] = \"\"\n",
        "        metadata['comment count'] = \"\"\n",
        "        metadata['tags'] = \"\"\n",
        "        metadata['time'] = \"\"\n",
        "         \n",
        "        if 'edge_media_to_caption' in apost:\n",
        "            if 'edges' in apost['edge_media_to_caption']:\n",
        "                edges = apost['edge_media_to_caption']['edges']\n",
        "                if len(edges) > 0:\n",
        "    #                    print(\"woo\")\n",
        "                    metadata['caption'] = apost['edge_media_to_caption']['edges'][0]['node']['text']\n",
        "            if 'edge_media_preview_like' in apost:\n",
        "                if 'count' in apost['edge_media_preview_like']:\n",
        "                    metadata['like count'] = apost['edge_media_preview_like']['count']\n",
        "            if 'edge_media_to_comment' in apost:\n",
        "                if 'count' in apost['edge_media_to_comment']:\n",
        "                    metadata['comment count'] = apost['edge_media_to_comment']['count']\n",
        "            if 'tags' in apost:\n",
        "                metadata['tags'] = apost['tags']\n",
        "                     \n",
        "            metadata['time'] = datetime.datetime.fromtimestamp(int(apost['taken_at_timestamp'])).strftime('%Y-%m-%d %H:%M')\n",
        "            metadata['display_url'] = apost['display_url']\n",
        "            if apost['is_video'] == True:\n",
        "                metadata['is_video'] = \"Video\"\n",
        "      \n",
        "            row = []\n",
        "            for anitem in metadata:\n",
        "                row.append(metadata[anitem])\n",
        "            csvwriter.writerow(row)\n",
        "             \n",
        "    outputfile.close()"
      ],
      "execution_count": 0,
      "outputs": [
        {
          "output_type": "stream",
          "text": [
            "drive/My Drive/Colab Notebooks/ford.json\n",
            "drive/My Drive/Colab Notebooks/honda.json\n",
            "drive/My Drive/Colab Notebooks/volvocars.json\n",
            "drive/My Drive/Colab Notebooks/dodgeofficial.json\n",
            "drive/My Drive/Colab Notebooks/chevrolet.json\n"
          ],
          "name": "stdout"
        }
      ]
    },
    {
      "cell_type": "markdown",
      "metadata": {
        "id": "cXDVyfLkyLDP",
        "colab_type": "text"
      },
      "source": [
        "###Calculate the average post engagement rate for each brand.\n",
        "\n",
        "\n",
        "*I got the total numbers of followers by directly checking on the brand's Instagram profile page*"
      ]
    },
    {
      "cell_type": "code",
      "metadata": {
        "id": "pGeZmNhQyU3w",
        "colab_type": "code",
        "outputId": "7cb755b1-ef78-453e-90aa-4383682a043c",
        "colab": {
          "base_uri": "https://localhost:8080/",
          "height": 204
        }
      },
      "source": [
        "#total followers: 4.1 million \n",
        "import pandas as pd\n",
        "Honda = pd.read_csv(open('drive/My Drive/Colab Notebooks/honda.csv','rb'))\n",
        "\n",
        "Honda['post engagment rate']= (Honda['like count']+ Honda['comment count'])/4100000\n",
        "Honda.head()\n"
      ],
      "execution_count": 0,
      "outputs": [
        {
          "output_type": "execute_result",
          "data": {
            "text/html": [
              "<div>\n",
              "<style scoped>\n",
              "    .dataframe tbody tr th:only-of-type {\n",
              "        vertical-align: middle;\n",
              "    }\n",
              "\n",
              "    .dataframe tbody tr th {\n",
              "        vertical-align: top;\n",
              "    }\n",
              "\n",
              "    .dataframe thead th {\n",
              "        text-align: right;\n",
              "    }\n",
              "</style>\n",
              "<table border=\"1\" class=\"dataframe\">\n",
              "  <thead>\n",
              "    <tr style=\"text-align: right;\">\n",
              "      <th></th>\n",
              "      <th>is_video</th>\n",
              "      <th>display_url</th>\n",
              "      <th>caption</th>\n",
              "      <th>like count</th>\n",
              "      <th>comment count</th>\n",
              "      <th>tags</th>\n",
              "      <th>time</th>\n",
              "      <th>post engagment rate</th>\n",
              "    </tr>\n",
              "  </thead>\n",
              "  <tbody>\n",
              "    <tr>\n",
              "      <th>0</th>\n",
              "      <td>Video</td>\n",
              "      <td>https://scontent-hkg3-2.cdninstagram.com/v/t51...</td>\n",
              "      <td>These #HondaLove fans have a special place in ...</td>\n",
              "      <td>3811</td>\n",
              "      <td>25</td>\n",
              "      <td>['HondaLove']</td>\n",
              "      <td>2020-02-14 14:00</td>\n",
              "      <td>0.000936</td>\n",
              "    </tr>\n",
              "    <tr>\n",
              "      <th>1</th>\n",
              "      <td>Photo</td>\n",
              "      <td>https://scontent-hkg3-1.cdninstagram.com/v/t51...</td>\n",
              "      <td>We’re ringing in our 50th anniversary of Ameri...</td>\n",
              "      <td>14489</td>\n",
              "      <td>58</td>\n",
              "      <td>[]</td>\n",
              "      <td>2020-02-14 01:27</td>\n",
              "      <td>0.003548</td>\n",
              "    </tr>\n",
              "    <tr>\n",
              "      <th>2</th>\n",
              "      <td>Video</td>\n",
              "      <td>https://scontent-hkg3-1.cdninstagram.com/v/t51...</td>\n",
              "      <td>50 years ago, our first continental US auto de...</td>\n",
              "      <td>5082</td>\n",
              "      <td>50</td>\n",
              "      <td>[]</td>\n",
              "      <td>2020-02-11 17:00</td>\n",
              "      <td>0.001252</td>\n",
              "    </tr>\n",
              "    <tr>\n",
              "      <th>3</th>\n",
              "      <td>Photo</td>\n",
              "      <td>https://scontent-hkg3-1.cdninstagram.com/v/t51...</td>\n",
              "      <td>It’s time to profess some #HondaLove. We’re 💞 ...</td>\n",
              "      <td>12248</td>\n",
              "      <td>728</td>\n",
              "      <td>['HondaLove']</td>\n",
              "      <td>2020-02-10 18:58</td>\n",
              "      <td>0.003165</td>\n",
              "    </tr>\n",
              "    <tr>\n",
              "      <th>4</th>\n",
              "      <td>Photo</td>\n",
              "      <td>https://scontent-hkg3-2.cdninstagram.com/v/t51...</td>\n",
              "      <td>Get in on all the action with the #HondaPilot ...</td>\n",
              "      <td>12835</td>\n",
              "      <td>45</td>\n",
              "      <td>['HondaPilot']</td>\n",
              "      <td>2020-02-09 18:00</td>\n",
              "      <td>0.003141</td>\n",
              "    </tr>\n",
              "  </tbody>\n",
              "</table>\n",
              "</div>"
            ],
            "text/plain": [
              "  is_video  ... post engagment rate\n",
              "0    Video  ...            0.000936\n",
              "1    Photo  ...            0.003548\n",
              "2    Video  ...            0.001252\n",
              "3    Photo  ...            0.003165\n",
              "4    Photo  ...            0.003141\n",
              "\n",
              "[5 rows x 8 columns]"
            ]
          },
          "metadata": {
            "tags": []
          },
          "execution_count": 8
        }
      ]
    },
    {
      "cell_type": "code",
      "metadata": {
        "id": "aT-oB1ln_CaQ",
        "colab_type": "code",
        "outputId": "1bac3ced-a31b-4dff-8b62-bce4b6d43ffd",
        "colab": {
          "base_uri": "https://localhost:8080/",
          "height": 34
        }
      },
      "source": [
        "#Honda average post engagment rate\n",
        "Honda_mean= Honda['post engagment rate'].mean()\n",
        "Honda_mean"
      ],
      "execution_count": 0,
      "outputs": [
        {
          "output_type": "execute_result",
          "data": {
            "text/plain": [
              "0.0042538414634146334"
            ]
          },
          "metadata": {
            "tags": []
          },
          "execution_count": 10
        }
      ]
    },
    {
      "cell_type": "code",
      "metadata": {
        "id": "wbWDUat04feX",
        "colab_type": "code",
        "outputId": "851820c7-99e1-4b86-d32d-63f3cb71f926",
        "colab": {
          "base_uri": "https://localhost:8080/",
          "height": 306
        }
      },
      "source": [
        "#total followers: 1.4 million \n",
        "import pandas as pd\n",
        "volvo = pd.read_csv(open('drive/My Drive/Colab Notebooks/volvocars.csv','rb'))\n",
        "\n",
        "volvo['post engagment rate']= (volvo['like count']+ volvo['comment count'])/1400000\n",
        "volvo.head()"
      ],
      "execution_count": 0,
      "outputs": [
        {
          "output_type": "execute_result",
          "data": {
            "text/html": [
              "<div>\n",
              "<style scoped>\n",
              "    .dataframe tbody tr th:only-of-type {\n",
              "        vertical-align: middle;\n",
              "    }\n",
              "\n",
              "    .dataframe tbody tr th {\n",
              "        vertical-align: top;\n",
              "    }\n",
              "\n",
              "    .dataframe thead th {\n",
              "        text-align: right;\n",
              "    }\n",
              "</style>\n",
              "<table border=\"1\" class=\"dataframe\">\n",
              "  <thead>\n",
              "    <tr style=\"text-align: right;\">\n",
              "      <th></th>\n",
              "      <th>is_video</th>\n",
              "      <th>display_url</th>\n",
              "      <th>caption</th>\n",
              "      <th>like count</th>\n",
              "      <th>comment count</th>\n",
              "      <th>tags</th>\n",
              "      <th>time</th>\n",
              "      <th>post engagment rate</th>\n",
              "    </tr>\n",
              "  </thead>\n",
              "  <tbody>\n",
              "    <tr>\n",
              "      <th>0</th>\n",
              "      <td>Photo</td>\n",
              "      <td>https://scontent-hkg3-1.cdninstagram.com/v/t51...</td>\n",
              "      <td>I sense a spark between us. #ValentinesDay #XC...</td>\n",
              "      <td>15266</td>\n",
              "      <td>79</td>\n",
              "      <td>['ValentinesDay', 'XC40Electric', 'VolvoRechar...</td>\n",
              "      <td>2020-02-14 09:22</td>\n",
              "      <td>0.010961</td>\n",
              "    </tr>\n",
              "    <tr>\n",
              "      <th>1</th>\n",
              "      <td>Video</td>\n",
              "      <td>https://scontent-hkg3-1.cdninstagram.com/v/t51...</td>\n",
              "      <td>Electric is not enough, and we’re part of the ...</td>\n",
              "      <td>3912</td>\n",
              "      <td>56</td>\n",
              "      <td>['VolvoRecharged']</td>\n",
              "      <td>2020-02-12 09:40</td>\n",
              "      <td>0.002834</td>\n",
              "    </tr>\n",
              "    <tr>\n",
              "      <th>2</th>\n",
              "      <td>Photo</td>\n",
              "      <td>https://scontent-hkg3-1.cdninstagram.com/v/t51...</td>\n",
              "      <td>With higher ground clearance comes new destina...</td>\n",
              "      <td>29624</td>\n",
              "      <td>188</td>\n",
              "      <td>[]</td>\n",
              "      <td>2020-02-05 10:19</td>\n",
              "      <td>0.021294</td>\n",
              "    </tr>\n",
              "    <tr>\n",
              "      <th>3</th>\n",
              "      <td>Photo</td>\n",
              "      <td>https://scontent-hkg3-1.cdninstagram.com/v/t51...</td>\n",
              "      <td>Appreciating the serene nature with an #XC90. ...</td>\n",
              "      <td>13701</td>\n",
              "      <td>58</td>\n",
              "      <td>['VolvoRecharged', 'XC90']</td>\n",
              "      <td>2020-01-29 12:15</td>\n",
              "      <td>0.009828</td>\n",
              "    </tr>\n",
              "    <tr>\n",
              "      <th>4</th>\n",
              "      <td>Photo</td>\n",
              "      <td>https://scontent-hkg3-2.cdninstagram.com/v/t51...</td>\n",
              "      <td>Holding onto those moments of calmness. #XC90 ...</td>\n",
              "      <td>21276</td>\n",
              "      <td>156</td>\n",
              "      <td>['VolvoRecharged', 'XC90']</td>\n",
              "      <td>2020-01-22 09:32</td>\n",
              "      <td>0.015309</td>\n",
              "    </tr>\n",
              "  </tbody>\n",
              "</table>\n",
              "</div>"
            ],
            "text/plain": [
              "  is_video  ... post engagment rate\n",
              "0    Photo  ...            0.010961\n",
              "1    Video  ...            0.002834\n",
              "2    Photo  ...            0.021294\n",
              "3    Photo  ...            0.009828\n",
              "4    Photo  ...            0.015309\n",
              "\n",
              "[5 rows x 8 columns]"
            ]
          },
          "metadata": {
            "tags": []
          },
          "execution_count": 11
        }
      ]
    },
    {
      "cell_type": "code",
      "metadata": {
        "id": "OhudXEXQ_PYt",
        "colab_type": "code",
        "outputId": "e1f9f77c-ac1d-49e8-f326-82ce6ebb5858",
        "colab": {
          "base_uri": "https://localhost:8080/",
          "height": 34
        }
      },
      "source": [
        "#Volvo average post engagment rate: \n",
        "volvo_mean= volvo['post engagment rate'].mean()\n",
        "volvo_mean"
      ],
      "execution_count": 0,
      "outputs": [
        {
          "output_type": "execute_result",
          "data": {
            "text/plain": [
              "0.01381074285714286"
            ]
          },
          "metadata": {
            "tags": []
          },
          "execution_count": 12
        }
      ]
    },
    {
      "cell_type": "code",
      "metadata": {
        "id": "ildci0fI5-3I",
        "colab_type": "code",
        "outputId": "81b8dc7d-ebe7-4c2f-cffa-d0583495ceaa",
        "colab": {
          "base_uri": "https://localhost:8080/",
          "height": 306
        }
      },
      "source": [
        "#total followers: 5.3 million \n",
        "import pandas as pd\n",
        "dodge = pd.read_csv(open('drive/My Drive/Colab Notebooks/dodgeofficial.csv','rb'))\n",
        "dodge.head()\n",
        "\n",
        "dodge['post engagment rate']= (dodge['like count']+ dodge['comment count'])/5300000\n",
        "dodge.head()"
      ],
      "execution_count": 0,
      "outputs": [
        {
          "output_type": "execute_result",
          "data": {
            "text/html": [
              "<div>\n",
              "<style scoped>\n",
              "    .dataframe tbody tr th:only-of-type {\n",
              "        vertical-align: middle;\n",
              "    }\n",
              "\n",
              "    .dataframe tbody tr th {\n",
              "        vertical-align: top;\n",
              "    }\n",
              "\n",
              "    .dataframe thead th {\n",
              "        text-align: right;\n",
              "    }\n",
              "</style>\n",
              "<table border=\"1\" class=\"dataframe\">\n",
              "  <thead>\n",
              "    <tr style=\"text-align: right;\">\n",
              "      <th></th>\n",
              "      <th>is_video</th>\n",
              "      <th>display_url</th>\n",
              "      <th>caption</th>\n",
              "      <th>like count</th>\n",
              "      <th>comment count</th>\n",
              "      <th>tags</th>\n",
              "      <th>time</th>\n",
              "      <th>post engagment rate</th>\n",
              "    </tr>\n",
              "  </thead>\n",
              "  <tbody>\n",
              "    <tr>\n",
              "      <th>0</th>\n",
              "      <td>Photo</td>\n",
              "      <td>https://scontent-hkg3-1.cdninstagram.com/v/t51...</td>\n",
              "      <td>Fire in the eyes. 🚘: @redline707_\\n\\n#ThatsMyD...</td>\n",
              "      <td>100484</td>\n",
              "      <td>249</td>\n",
              "      <td>['MuscleCar', 'DodgeHellcat', 'MuscleCars', 'T...</td>\n",
              "      <td>2020-02-15 14:42</td>\n",
              "      <td>0.019006</td>\n",
              "    </tr>\n",
              "    <tr>\n",
              "      <th>1</th>\n",
              "      <td>Video</td>\n",
              "      <td>https://scontent-hkg3-1.cdninstagram.com/v/t51...</td>\n",
              "      <td>Love is in the air. #HappyValentinesDay</td>\n",
              "      <td>67319</td>\n",
              "      <td>658</td>\n",
              "      <td>['HappyValentinesDay']</td>\n",
              "      <td>2020-02-14 13:00</td>\n",
              "      <td>0.012826</td>\n",
              "    </tr>\n",
              "    <tr>\n",
              "      <th>2</th>\n",
              "      <td>Photo</td>\n",
              "      <td>https://scontent-hkg3-2.cdninstagram.com/v/t51...</td>\n",
              "      <td>Never underestimate muscle.\\n🚘: @three_pedal_l...</td>\n",
              "      <td>118043</td>\n",
              "      <td>312</td>\n",
              "      <td>['SRT', 'MuscleCar', 'MuscleCars', 'ThatsMyDod...</td>\n",
              "      <td>2020-02-12 21:46</td>\n",
              "      <td>0.022331</td>\n",
              "    </tr>\n",
              "    <tr>\n",
              "      <th>3</th>\n",
              "      <td>Photo</td>\n",
              "      <td>https://scontent-hkg3-1.cdninstagram.com/v/t51...</td>\n",
              "      <td>Consider the show stopped.\\n\\n#ThatsMyDodge #D...</td>\n",
              "      <td>115404</td>\n",
              "      <td>305</td>\n",
              "      <td>['DodgeHellcat', 'MuscleCars', 'ThatsMyDodge',...</td>\n",
              "      <td>2020-02-11 14:41</td>\n",
              "      <td>0.021832</td>\n",
              "    </tr>\n",
              "    <tr>\n",
              "      <th>4</th>\n",
              "      <td>Photo</td>\n",
              "      <td>https://scontent-hkg3-1.cdninstagram.com/v/t51...</td>\n",
              "      <td>Gives the competition the blues. 🚘: @indigo_he...</td>\n",
              "      <td>101986</td>\n",
              "      <td>264</td>\n",
              "      <td>['MuscleCar', 'DodgeHellcat', 'MuscleCars', 'T...</td>\n",
              "      <td>2020-02-10 21:46</td>\n",
              "      <td>0.019292</td>\n",
              "    </tr>\n",
              "  </tbody>\n",
              "</table>\n",
              "</div>"
            ],
            "text/plain": [
              "  is_video  ... post engagment rate\n",
              "0    Photo  ...            0.019006\n",
              "1    Video  ...            0.012826\n",
              "2    Photo  ...            0.022331\n",
              "3    Photo  ...            0.021832\n",
              "4    Photo  ...            0.019292\n",
              "\n",
              "[5 rows x 8 columns]"
            ]
          },
          "metadata": {
            "tags": []
          },
          "execution_count": 13
        }
      ]
    },
    {
      "cell_type": "code",
      "metadata": {
        "id": "gcIE1d2I_iLz",
        "colab_type": "code",
        "outputId": "9ac29965-2bc6-4a55-eaf7-f3bc0c7a86e9",
        "colab": {
          "base_uri": "https://localhost:8080/",
          "height": 34
        }
      },
      "source": [
        "#dodgeofficia average post engagment rate:\n",
        "dodge_mean= dodge['post engagment rate'].mean()\n",
        "dodge_mean"
      ],
      "execution_count": 0,
      "outputs": [
        {
          "output_type": "execute_result",
          "data": {
            "text/plain": [
              "0.021022040566037747"
            ]
          },
          "metadata": {
            "tags": []
          },
          "execution_count": 14
        }
      ]
    },
    {
      "cell_type": "code",
      "metadata": {
        "id": "eDtQKLo26UIt",
        "colab_type": "code",
        "outputId": "a513d8b3-f308-4177-fdc8-22d1fc709ad0",
        "colab": {
          "base_uri": "https://localhost:8080/",
          "height": 306
        }
      },
      "source": [
        "#total followers: 3 million\n",
        "import pandas as pd\n",
        "chevrolet = pd.read_csv(open('drive/My Drive/Colab Notebooks/chevrolet.csv','rb'))\n",
        "chevrolet.head()\n",
        "\n",
        "chevrolet['post engagment rate']= (chevrolet['like count']+ chevrolet['comment count'])/3000000\n",
        "chevrolet.head()"
      ],
      "execution_count": 0,
      "outputs": [
        {
          "output_type": "execute_result",
          "data": {
            "text/html": [
              "<div>\n",
              "<style scoped>\n",
              "    .dataframe tbody tr th:only-of-type {\n",
              "        vertical-align: middle;\n",
              "    }\n",
              "\n",
              "    .dataframe tbody tr th {\n",
              "        vertical-align: top;\n",
              "    }\n",
              "\n",
              "    .dataframe thead th {\n",
              "        text-align: right;\n",
              "    }\n",
              "</style>\n",
              "<table border=\"1\" class=\"dataframe\">\n",
              "  <thead>\n",
              "    <tr style=\"text-align: right;\">\n",
              "      <th></th>\n",
              "      <th>is_video</th>\n",
              "      <th>display_url</th>\n",
              "      <th>caption</th>\n",
              "      <th>like count</th>\n",
              "      <th>comment count</th>\n",
              "      <th>tags</th>\n",
              "      <th>time</th>\n",
              "      <th>post engagment rate</th>\n",
              "    </tr>\n",
              "  </thead>\n",
              "  <tbody>\n",
              "    <tr>\n",
              "      <th>0</th>\n",
              "      <td>Photo</td>\n",
              "      <td>https://scontent-hkg3-1.cdninstagram.com/v/t51...</td>\n",
              "      <td>With a bold new design, the 2021 #ChevyEquinox...</td>\n",
              "      <td>25753</td>\n",
              "      <td>302</td>\n",
              "      <td>['ChevyEquinox']</td>\n",
              "      <td>2020-02-06 11:29</td>\n",
              "      <td>0.008685</td>\n",
              "    </tr>\n",
              "    <tr>\n",
              "      <th>1</th>\n",
              "      <td>Photo</td>\n",
              "      <td>https://scontent-hkg3-1.cdninstagram.com/v/t51...</td>\n",
              "      <td>We can play along too. #DollyPartonChallenge</td>\n",
              "      <td>53564</td>\n",
              "      <td>409</td>\n",
              "      <td>['DollyPartonChallenge']</td>\n",
              "      <td>2020-01-25 15:08</td>\n",
              "      <td>0.017991</td>\n",
              "    </tr>\n",
              "    <tr>\n",
              "      <th>2</th>\n",
              "      <td>Photo</td>\n",
              "      <td>https://scontent-hkg3-1.cdninstagram.com/v/t51...</td>\n",
              "      <td>Check out our Story today and learn how to be ...</td>\n",
              "      <td>40836</td>\n",
              "      <td>150</td>\n",
              "      <td>['Chevy']</td>\n",
              "      <td>2020-01-24 16:10</td>\n",
              "      <td>0.013662</td>\n",
              "    </tr>\n",
              "    <tr>\n",
              "      <th>3</th>\n",
              "      <td>Photo</td>\n",
              "      <td>https://scontent-hkg3-1.cdninstagram.com/v/t51...</td>\n",
              "      <td>The hunt is over. Introducing the #Silverado #...</td>\n",
              "      <td>54480</td>\n",
              "      <td>487</td>\n",
              "      <td>['Silverado', 'Realtree']</td>\n",
              "      <td>2020-01-22 18:29</td>\n",
              "      <td>0.018322</td>\n",
              "    </tr>\n",
              "    <tr>\n",
              "      <th>4</th>\n",
              "      <td>Video</td>\n",
              "      <td>https://scontent-hkg3-2.cdninstagram.com/v/t51...</td>\n",
              "      <td>There’s no hiding it. Your phone background sa...</td>\n",
              "      <td>15831</td>\n",
              "      <td>73</td>\n",
              "      <td>['Silverado']</td>\n",
              "      <td>2020-01-21 19:19</td>\n",
              "      <td>0.005301</td>\n",
              "    </tr>\n",
              "  </tbody>\n",
              "</table>\n",
              "</div>"
            ],
            "text/plain": [
              "  is_video  ... post engagment rate\n",
              "0    Photo  ...            0.008685\n",
              "1    Photo  ...            0.017991\n",
              "2    Photo  ...            0.013662\n",
              "3    Photo  ...            0.018322\n",
              "4    Video  ...            0.005301\n",
              "\n",
              "[5 rows x 8 columns]"
            ]
          },
          "metadata": {
            "tags": []
          },
          "execution_count": 15
        }
      ]
    },
    {
      "cell_type": "code",
      "metadata": {
        "id": "Yb01SXyY_w0E",
        "colab_type": "code",
        "outputId": "8908ed08-df8a-45c3-f4b6-a631e35ae174",
        "colab": {
          "base_uri": "https://localhost:8080/",
          "height": 34
        }
      },
      "source": [
        "#chevrolet average post engagment rate:\n",
        "chevrolet_mean= chevrolet['post engagment rate'].mean()\n",
        "chevrolet_mean"
      ],
      "execution_count": 0,
      "outputs": [
        {
          "output_type": "execute_result",
          "data": {
            "text/plain": [
              "0.01076851"
            ]
          },
          "metadata": {
            "tags": []
          },
          "execution_count": 16
        }
      ]
    },
    {
      "cell_type": "code",
      "metadata": {
        "id": "575tzbAM6zUh",
        "colab_type": "code",
        "outputId": "3e6a1b90-6382-416e-afc6-2e50c9e9bc8c",
        "colab": {
          "base_uri": "https://localhost:8080/",
          "height": 306
        }
      },
      "source": [
        "#total followers: 3.9 million\n",
        "import pandas as pd\n",
        "ford = pd.read_csv(open('drive/My Drive/Colab Notebooks/ford.csv','rb'))\n",
        "ford.head()\n",
        "\n",
        "ford['post engagment rate']= (ford['like count']+ ford['comment count'])/3000000\n",
        "ford.head()"
      ],
      "execution_count": 0,
      "outputs": [
        {
          "output_type": "execute_result",
          "data": {
            "text/html": [
              "<div>\n",
              "<style scoped>\n",
              "    .dataframe tbody tr th:only-of-type {\n",
              "        vertical-align: middle;\n",
              "    }\n",
              "\n",
              "    .dataframe tbody tr th {\n",
              "        vertical-align: top;\n",
              "    }\n",
              "\n",
              "    .dataframe thead th {\n",
              "        text-align: right;\n",
              "    }\n",
              "</style>\n",
              "<table border=\"1\" class=\"dataframe\">\n",
              "  <thead>\n",
              "    <tr style=\"text-align: right;\">\n",
              "      <th></th>\n",
              "      <th>is_video</th>\n",
              "      <th>display_url</th>\n",
              "      <th>caption</th>\n",
              "      <th>like count</th>\n",
              "      <th>comment count</th>\n",
              "      <th>tags</th>\n",
              "      <th>time</th>\n",
              "      <th>post engagment rate</th>\n",
              "    </tr>\n",
              "  </thead>\n",
              "  <tbody>\n",
              "    <tr>\n",
              "      <th>0</th>\n",
              "      <td>Photo</td>\n",
              "      <td>https://scontent-hkg3-1.cdninstagram.com/v/t51...</td>\n",
              "      <td>It’s a draw. They’re both our good side.\\n∙\\n#...</td>\n",
              "      <td>41327</td>\n",
              "      <td>249</td>\n",
              "      <td>['Ford', 'SUV', 'FordExplorer']</td>\n",
              "      <td>2020-02-13 17:31</td>\n",
              "      <td>0.013859</td>\n",
              "    </tr>\n",
              "    <tr>\n",
              "      <th>1</th>\n",
              "      <td>Photo</td>\n",
              "      <td>https://scontent-hkg3-1.cdninstagram.com/v/t51...</td>\n",
              "      <td>Vroooooooooooom.\\n.\\nProfessional driver. Clos...</td>\n",
              "      <td>100061</td>\n",
              "      <td>619</td>\n",
              "      <td>['FordMustang', 'Ford', 'ShelbyGT500', 'GT500T...</td>\n",
              "      <td>2020-02-07 17:00</td>\n",
              "      <td>0.033560</td>\n",
              "    </tr>\n",
              "    <tr>\n",
              "      <th>2</th>\n",
              "      <td>Photo</td>\n",
              "      <td>https://scontent-hkg3-1.cdninstagram.com/v/t51...</td>\n",
              "      <td>ⓛⓘⓠⓤⓘⓓ ⓒⓐⓡⓑⓞⓝ\\n∙\\nOn top of the newly availabl...</td>\n",
              "      <td>147333</td>\n",
              "      <td>1467</td>\n",
              "      <td>['FordPerformance', 'Ford', 'FordGT']</td>\n",
              "      <td>2020-02-06 16:54</td>\n",
              "      <td>0.049600</td>\n",
              "    </tr>\n",
              "    <tr>\n",
              "      <th>3</th>\n",
              "      <td>Photo</td>\n",
              "      <td>https://scontent-hkg3-1.cdninstagram.com/v/t51...</td>\n",
              "      <td>Anyone else dreaming of some ☀️right about now...</td>\n",
              "      <td>39984</td>\n",
              "      <td>278</td>\n",
              "      <td>['WinterBlues', 'Ford', 'FordExplorer']</td>\n",
              "      <td>2020-02-05 17:00</td>\n",
              "      <td>0.013421</td>\n",
              "    </tr>\n",
              "    <tr>\n",
              "      <th>4</th>\n",
              "      <td>Photo</td>\n",
              "      <td>https://scontent-hkg3-1.cdninstagram.com/v/t51...</td>\n",
              "      <td>Save the slippery for the slopes.\\n∙\\n‘Slipper...</td>\n",
              "      <td>42615</td>\n",
              "      <td>304</td>\n",
              "      <td>['WinterSports', 'SUV', 'Snowboarding', 'Ford'...</td>\n",
              "      <td>2020-02-04 16:27</td>\n",
              "      <td>0.014306</td>\n",
              "    </tr>\n",
              "  </tbody>\n",
              "</table>\n",
              "</div>"
            ],
            "text/plain": [
              "  is_video  ... post engagment rate\n",
              "0    Photo  ...            0.013859\n",
              "1    Photo  ...            0.033560\n",
              "2    Photo  ...            0.049600\n",
              "3    Photo  ...            0.013421\n",
              "4    Photo  ...            0.014306\n",
              "\n",
              "[5 rows x 8 columns]"
            ]
          },
          "metadata": {
            "tags": []
          },
          "execution_count": 17
        }
      ]
    },
    {
      "cell_type": "code",
      "metadata": {
        "id": "zyZKNnXf_-Sv",
        "colab_type": "code",
        "outputId": "0394737a-6493-4ad2-be4d-13255b2a287d",
        "colab": {
          "base_uri": "https://localhost:8080/",
          "height": 34
        }
      },
      "source": [
        "#ford average post engagment rate: \n",
        "ford_mean= ford['post engagment rate'].mean()\n",
        "ford_mean"
      ],
      "execution_count": 0,
      "outputs": [
        {
          "output_type": "execute_result",
          "data": {
            "text/plain": [
              "0.017608106666666682"
            ]
          },
          "metadata": {
            "tags": []
          },
          "execution_count": 18
        }
      ]
    },
    {
      "cell_type": "markdown",
      "metadata": {
        "id": "Ui9NedjtBJDk",
        "colab_type": "text"
      },
      "source": [
        "# Questions to answer"
      ]
    },
    {
      "cell_type": "markdown",
      "metadata": {
        "id": "qxXMHXMzBNme",
        "colab_type": "text"
      },
      "source": [
        "##1. Which of the brands has the highest average post engagement rate? \n",
        "  **Dodge** has the highest average post engagement rate which is around 2.1% \n",
        "##2. How is @honda's engagement rate compared to its competitors? \n",
        "**It has the lowest engagement rate (0.42%) compare to its competitors.**\n"
      ]
    }
  ]
}